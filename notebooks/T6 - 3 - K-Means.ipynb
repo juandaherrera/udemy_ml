{
 "cells": [
  {
   "cell_type": "markdown",
   "id": "5218ffe4",
   "metadata": {},
   "source": [
    "# El método de k-means"
   ]
  },
  {
   "cell_type": "code",
   "execution_count": 1,
   "id": "8e289333",
   "metadata": {},
   "outputs": [],
   "source": [
    "import numpy as np"
   ]
  },
  {
   "cell_type": "code",
   "execution_count": 2,
   "id": "9e99cf51",
   "metadata": {},
   "outputs": [
    {
     "data": {
      "text/plain": [
       "array([[0.79866204, 0.28912155, 0.22569015],\n",
       "       [0.5000286 , 0.17208267, 0.59761752],\n",
       "       [0.13885377, 0.70857224, 0.55665327],\n",
       "       [0.87414551, 0.80710558, 0.96454522],\n",
       "       [0.93953122, 0.84239006, 0.08151364],\n",
       "       [0.84904191, 0.28694895, 0.95057714],\n",
       "       [0.16616626, 0.66696547, 0.51180578],\n",
       "       [0.26085339, 0.30390873, 0.12373069],\n",
       "       [0.47692433, 0.696488  , 0.65230453],\n",
       "       [0.82887906, 0.55254547, 0.98668639],\n",
       "       [0.06652743, 0.59635796, 0.24456154],\n",
       "       [0.91812044, 0.6510255 , 0.22503531],\n",
       "       [0.05518601, 0.82843873, 0.27923912],\n",
       "       [0.94814178, 0.29587785, 0.25207337],\n",
       "       [0.5121527 , 0.0972785 , 0.850924  ],\n",
       "       [0.55489024, 0.65833098, 0.90012217],\n",
       "       [0.59501205, 0.11745274, 0.93669611],\n",
       "       [0.98179636, 0.0622532 , 0.60256082],\n",
       "       [0.04682241, 0.2182677 , 0.97281192],\n",
       "       [0.23619536, 0.10889662, 0.72295659],\n",
       "       [0.11107181, 0.2419258 , 0.55133488],\n",
       "       [0.70858836, 0.18273173, 0.37177139],\n",
       "       [0.45085867, 0.58452548, 0.26130858],\n",
       "       [0.99553566, 0.95171781, 0.36157115],\n",
       "       [0.9209479 , 0.10578391, 0.06985192],\n",
       "       [0.48012768, 0.10369775, 0.89956868],\n",
       "       [0.25912907, 0.37102788, 0.76176839],\n",
       "       [0.18062361, 0.85264665, 0.81834903],\n",
       "       [0.62413701, 0.20575279, 0.9950387 ],\n",
       "       [0.47977238, 0.57245266, 0.78082237]])"
      ]
     },
     "execution_count": 2,
     "metadata": {},
     "output_type": "execute_result"
    }
   ],
   "source": [
    "data = np.random.rand(90).reshape(30,3)\n",
    "data"
   ]
  },
  {
   "cell_type": "code",
   "execution_count": 3,
   "id": "3ef0192d",
   "metadata": {},
   "outputs": [
    {
     "data": {
      "text/plain": [
       "array([[0.99553566, 0.95171781, 0.36157115],\n",
       "       [0.25912907, 0.37102788, 0.76176839]])"
      ]
     },
     "execution_count": 3,
     "metadata": {},
     "output_type": "execute_result"
    }
   ],
   "source": [
    "c1 = np.random.choice(range(len(data)))\n",
    "c2 = np.random.choice(range(len(data)))\n",
    "\n",
    "clust_centers = np.vstack([data[c1], data[c2]])\n",
    "clust_centers"
   ]
  },
  {
   "cell_type": "code",
   "execution_count": 4,
   "id": "65790ea1",
   "metadata": {},
   "outputs": [],
   "source": [
    "from scipy.cluster.vq import vq"
   ]
  },
  {
   "cell_type": "code",
   "execution_count": 5,
   "id": "f99aa5e4",
   "metadata": {},
   "outputs": [
    {
     "data": {
      "text/plain": [
       "(array([0, 1, 1, 0, 0, 1, 1, 1, 1, 1, 1, 0, 1, 0, 1, 1, 1, 1, 1, 1, 1, 1,\n",
       "        1, 0, 0, 1, 1, 1, 1, 1]),\n",
       " array([0.70445488, 0.35292675, 0.41288565, 0.63184333, 0.30581246,\n",
       "        0.62507214, 0.39837476, 0.64156064, 0.40662194, 0.63886759,\n",
       "        0.59613082, 0.33919171, 0.6954509 , 0.66660483, 0.38328632,\n",
       "        0.43492472, 0.45576029, 0.80183344, 0.3360791 , 0.26597952,\n",
       "        0.28787246, 0.62415282, 0.57688949, 0.        , 0.89792406,\n",
       "        0.37322206, 0.        , 0.49124446, 0.46363961, 0.29936344]))"
      ]
     },
     "execution_count": 5,
     "metadata": {},
     "output_type": "execute_result"
    }
   ],
   "source": [
    "vq(data, clust_centers)"
   ]
  },
  {
   "cell_type": "code",
   "execution_count": 6,
   "id": "c1024814",
   "metadata": {},
   "outputs": [],
   "source": [
    "from scipy.cluster.vq import kmeans"
   ]
  },
  {
   "cell_type": "code",
   "execution_count": 7,
   "id": "d27ffa24",
   "metadata": {},
   "outputs": [
    {
     "data": {
      "text/plain": [
       "(array([[0.90141547, 0.4226127 , 0.27375847],\n",
       "        [0.39760906, 0.4432577 , 0.69633739]]),\n",
       " 0.40779321181546274)"
      ]
     },
     "execution_count": 7,
     "metadata": {},
     "output_type": "execute_result"
    }
   ],
   "source": [
    "kmeans(data, clust_centers)"
   ]
  },
  {
   "cell_type": "code",
   "execution_count": 8,
   "id": "5aac9b19",
   "metadata": {},
   "outputs": [
    {
     "data": {
      "text/plain": [
       "(array([[0.40178436, 0.44316176, 0.74671917],\n",
       "        [0.79230358, 0.42693358, 0.2575107 ]]),\n",
       " 0.4045955228969997)"
      ]
     },
     "execution_count": 8,
     "metadata": {},
     "output_type": "execute_result"
    }
   ],
   "source": [
    "kmeans(data, 2)"
   ]
  },
  {
   "cell_type": "code",
   "execution_count": null,
   "id": "c36ba7a4",
   "metadata": {},
   "outputs": [],
   "source": []
  }
 ],
 "metadata": {
  "kernelspec": {
   "display_name": "Python 3 (ipykernel)",
   "language": "python",
   "name": "python3"
  },
  "language_info": {
   "codemirror_mode": {
    "name": "ipython",
    "version": 3
   },
   "file_extension": ".py",
   "mimetype": "text/x-python",
   "name": "python",
   "nbconvert_exporter": "python",
   "pygments_lexer": "ipython3",
   "version": "3.9.12"
  }
 },
 "nbformat": 4,
 "nbformat_minor": 5
}
