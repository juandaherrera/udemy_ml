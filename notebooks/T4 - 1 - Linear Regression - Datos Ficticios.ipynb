{
 "cells": [
  {
   "cell_type": "markdown",
   "id": "cae25b33",
   "metadata": {},
   "source": [
    "# Modelos de Regresión Lineal\n",
    "## Modelo con datos simulados\n",
    "Aquí lo que hacemos es asumir que alguien ya ha hecho el modelo predictivo y vamos a analizar qué tan bueno es dicho modelo. Para ello tenemos en cuenta lo siguiente:\n",
    "* **y** = a + b * x\n",
    "* **X:** 100 valores distribuidos según una N(1.5, 2.5)\n",
    "* **Ye:** 5 + 1.9 * x + e\n",
    "* **e**: estará distribuida según una N(0, 0.8)"
   ]
  },
  {
   "cell_type": "code",
   "execution_count": 52,
   "id": "afc73a6b",
   "metadata": {},
   "outputs": [],
   "source": [
    "import pandas as pd\n",
    "import numpy as np"
   ]
  },
  {
   "cell_type": "code",
   "execution_count": 53,
   "id": "3b6745c9",
   "metadata": {},
   "outputs": [],
   "source": [
    "x = 1.5 + 2.5 * np.random.randn(100)"
   ]
  },
  {
   "cell_type": "code",
   "execution_count": 54,
   "id": "be9beb87",
   "metadata": {},
   "outputs": [],
   "source": [
    "res = 0 + 0.8 * np.random.randn(100)"
   ]
  },
  {
   "cell_type": "markdown",
   "id": "fb2fcf12",
   "metadata": {},
   "source": [
    "La Y que nos devolvería el modelo:"
   ]
  },
  {
   "cell_type": "code",
   "execution_count": 55,
   "id": "f7fe50aa",
   "metadata": {},
   "outputs": [],
   "source": [
    "y_pred = 5 + 1.9 * x"
   ]
  },
  {
   "cell_type": "markdown",
   "id": "fb4ff02f",
   "metadata": {},
   "source": [
    "La Y **real**"
   ]
  },
  {
   "cell_type": "code",
   "execution_count": 56,
   "id": "0cf9e1c1",
   "metadata": {},
   "outputs": [],
   "source": [
    "y_act = 5 + 1.9 * x + res"
   ]
  },
  {
   "cell_type": "code",
   "execution_count": 57,
   "id": "7d65bc04",
   "metadata": {},
   "outputs": [],
   "source": [
    "x_list = x.tolist()\n",
    "y_pred_list = y_pred.tolist()\n",
    "y_act_list = y_act.tolist()"
   ]
  },
  {
   "cell_type": "code",
   "execution_count": 58,
   "id": "f14c3503",
   "metadata": {},
   "outputs": [],
   "source": [
    "data = pd.DataFrame (\n",
    "    {\n",
    "        \"x\":x_list,\n",
    "        \"y\":y_act_list,\n",
    "        \"y_pred\":y_pred_list\n",
    "    }\n",
    ")"
   ]
  },
  {
   "cell_type": "code",
   "execution_count": 59,
   "id": "2ac55b37",
   "metadata": {},
   "outputs": [
    {
     "data": {
      "text/html": [
       "<div>\n",
       "<style scoped>\n",
       "    .dataframe tbody tr th:only-of-type {\n",
       "        vertical-align: middle;\n",
       "    }\n",
       "\n",
       "    .dataframe tbody tr th {\n",
       "        vertical-align: top;\n",
       "    }\n",
       "\n",
       "    .dataframe thead th {\n",
       "        text-align: right;\n",
       "    }\n",
       "</style>\n",
       "<table border=\"1\" class=\"dataframe\">\n",
       "  <thead>\n",
       "    <tr style=\"text-align: right;\">\n",
       "      <th></th>\n",
       "      <th>x</th>\n",
       "      <th>y</th>\n",
       "      <th>y_pred</th>\n",
       "    </tr>\n",
       "  </thead>\n",
       "  <tbody>\n",
       "    <tr>\n",
       "      <th>0</th>\n",
       "      <td>2.322673</td>\n",
       "      <td>8.900316</td>\n",
       "      <td>9.413078</td>\n",
       "    </tr>\n",
       "    <tr>\n",
       "      <th>1</th>\n",
       "      <td>1.131153</td>\n",
       "      <td>8.473190</td>\n",
       "      <td>7.149190</td>\n",
       "    </tr>\n",
       "    <tr>\n",
       "      <th>2</th>\n",
       "      <td>-2.144179</td>\n",
       "      <td>0.365196</td>\n",
       "      <td>0.926059</td>\n",
       "    </tr>\n",
       "    <tr>\n",
       "      <th>3</th>\n",
       "      <td>-3.990194</td>\n",
       "      <td>-2.930231</td>\n",
       "      <td>-2.581368</td>\n",
       "    </tr>\n",
       "    <tr>\n",
       "      <th>4</th>\n",
       "      <td>0.309135</td>\n",
       "      <td>7.922258</td>\n",
       "      <td>5.587357</td>\n",
       "    </tr>\n",
       "  </tbody>\n",
       "</table>\n",
       "</div>"
      ],
      "text/plain": [
       "          x         y    y_pred\n",
       "0  2.322673  8.900316  9.413078\n",
       "1  1.131153  8.473190  7.149190\n",
       "2 -2.144179  0.365196  0.926059\n",
       "3 -3.990194 -2.930231 -2.581368\n",
       "4  0.309135  7.922258  5.587357"
      ]
     },
     "execution_count": 59,
     "metadata": {},
     "output_type": "execute_result"
    }
   ],
   "source": [
    "data.head()"
   ]
  },
  {
   "cell_type": "code",
   "execution_count": 60,
   "id": "edea620d",
   "metadata": {},
   "outputs": [],
   "source": [
    "import matplotlib.pyplot as plt"
   ]
  },
  {
   "cell_type": "code",
   "execution_count": 61,
   "id": "aafc761d",
   "metadata": {},
   "outputs": [],
   "source": [
    "y_mean = [np.mean(y_act) for i in range(1, len(x_list) + 1)] # Vector que contiene el promedio las n veces que salga X"
   ]
  },
  {
   "cell_type": "code",
   "execution_count": 62,
   "id": "972b1099",
   "metadata": {},
   "outputs": [
    {
     "data": {
      "text/plain": [
       "Text(0.5, 1.0, 'Valor actual vs Predicción')"
      ]
     },
     "execution_count": 62,
     "metadata": {},
     "output_type": "execute_result"
    },
    {
     "data": {
      "image/png": "[encoded data removed]",
      "text/plain": [
       "<Figure size 432x288 with 1 Axes>"
      ]
     },
     "metadata": {
      "needs_background": "light"
     },
     "output_type": "display_data"
    }
   ],
   "source": [
    "%matplotlib inline\n",
    "plt.plot(x,y_pred)\n",
    "plt.plot(x,y_act, \"ro\")\n",
    "plt.plot(x, y_mean, \"g\")\n",
    "plt.title(\"Valor actual vs Predicción\")"
   ]
  },
  {
   "cell_type": "code",
   "execution_count": 63,
   "id": "ddc64048",
   "metadata": {},
   "outputs": [],
   "source": [
    "data[\"SSR\"] = (data[\"y_pred\"] - np.mean(data[\"y\"])) **2\n",
    "data[\"SSD\"] = (data[\"y_pred\"] - data[\"y\"])**2\n",
    "data[\"SST\"] = (data[\"y\"] - np.mean(data[\"y\"])) **2"
   ]
  },
  {
   "cell_type": "code",
   "execution_count": 64,
   "id": "e630212c",
   "metadata": {},
   "outputs": [
    {
     "data": {
      "text/html": [
       "<div>\n",
       "<style scoped>\n",
       "    .dataframe tbody tr th:only-of-type {\n",
       "        vertical-align: middle;\n",
       "    }\n",
       "\n",
       "    .dataframe tbody tr th {\n",
       "        vertical-align: top;\n",
       "    }\n",
       "\n",
       "    .dataframe thead th {\n",
       "        text-align: right;\n",
       "    }\n",
       "</style>\n",
       "<table border=\"1\" class=\"dataframe\">\n",
       "  <thead>\n",
       "    <tr style=\"text-align: right;\">\n",
       "      <th></th>\n",
       "      <th>x</th>\n",
       "      <th>y</th>\n",
       "      <th>y_pred</th>\n",
       "      <th>SSR</th>\n",
       "      <th>SSD</th>\n",
       "      <th>SST</th>\n",
       "    </tr>\n",
       "  </thead>\n",
       "  <tbody>\n",
       "    <tr>\n",
       "      <th>0</th>\n",
       "      <td>2.322673</td>\n",
       "      <td>8.900316</td>\n",
       "      <td>9.413078</td>\n",
       "      <td>4.759774</td>\n",
       "      <td>0.262925</td>\n",
       "      <td>2.785324</td>\n",
       "    </tr>\n",
       "    <tr>\n",
       "      <th>1</th>\n",
       "      <td>1.131153</td>\n",
       "      <td>8.473190</td>\n",
       "      <td>7.149190</td>\n",
       "      <td>0.006756</td>\n",
       "      <td>1.752976</td>\n",
       "      <td>1.542074</td>\n",
       "    </tr>\n",
       "    <tr>\n",
       "      <th>2</th>\n",
       "      <td>-2.144179</td>\n",
       "      <td>0.365196</td>\n",
       "      <td>0.926059</td>\n",
       "      <td>39.757164</td>\n",
       "      <td>0.314568</td>\n",
       "      <td>47.144586</td>\n",
       "    </tr>\n",
       "    <tr>\n",
       "      <th>3</th>\n",
       "      <td>-3.990194</td>\n",
       "      <td>-2.930231</td>\n",
       "      <td>-2.581368</td>\n",
       "      <td>96.290166</td>\n",
       "      <td>0.121705</td>\n",
       "      <td>103.258483</td>\n",
       "    </tr>\n",
       "    <tr>\n",
       "      <th>4</th>\n",
       "      <td>0.309135</td>\n",
       "      <td>7.922258</td>\n",
       "      <td>5.587357</td>\n",
       "      <td>2.702835</td>\n",
       "      <td>5.451764</td>\n",
       "      <td>0.477303</td>\n",
       "    </tr>\n",
       "  </tbody>\n",
       "</table>\n",
       "</div>"
      ],
      "text/plain": [
       "          x         y    y_pred        SSR       SSD         SST\n",
       "0  2.322673  8.900316  9.413078   4.759774  0.262925    2.785324\n",
       "1  1.131153  8.473190  7.149190   0.006756  1.752976    1.542074\n",
       "2 -2.144179  0.365196  0.926059  39.757164  0.314568   47.144586\n",
       "3 -3.990194 -2.930231 -2.581368  96.290166  0.121705  103.258483\n",
       "4  0.309135  7.922258  5.587357   2.702835  5.451764    0.477303"
      ]
     },
     "execution_count": 64,
     "metadata": {},
     "output_type": "execute_result"
    }
   ],
   "source": [
    "data.head()"
   ]
  },
  {
   "cell_type": "code",
   "execution_count": 65,
   "id": "52aa97d0",
   "metadata": {},
   "outputs": [],
   "source": [
    "SSR = sum(data[\"SSR\"])\n",
    "SSD = sum(data[\"SSD\"])\n",
    "SST = sum(data[\"SST\"])"
   ]
  },
  {
   "cell_type": "code",
   "execution_count": 66,
   "id": "005a5cf2",
   "metadata": {},
   "outputs": [
    {
     "data": {
      "text/plain": [
       "2883.4583266623245"
      ]
     },
     "execution_count": 66,
     "metadata": {},
     "output_type": "execute_result"
    }
   ],
   "source": [
    "SSR"
   ]
  },
  {
   "cell_type": "code",
   "execution_count": 67,
   "id": "14874539",
   "metadata": {},
   "outputs": [
    {
     "data": {
      "text/plain": [
       "63.25279272399359"
      ]
     },
     "execution_count": 67,
     "metadata": {},
     "output_type": "execute_result"
    }
   ],
   "source": [
    "SSD"
   ]
  },
  {
   "cell_type": "code",
   "execution_count": 68,
   "id": "b4c47f21",
   "metadata": {},
   "outputs": [
    {
     "data": {
      "text/plain": [
       "3036.6787650131914"
      ]
     },
     "execution_count": 68,
     "metadata": {},
     "output_type": "execute_result"
    }
   ],
   "source": [
    "SST"
   ]
  },
  {
   "cell_type": "code",
   "execution_count": 69,
   "id": "0555ab4c",
   "metadata": {},
   "outputs": [
    {
     "data": {
      "text/plain": [
       "2946.711119386318"
      ]
     },
     "execution_count": 69,
     "metadata": {},
     "output_type": "execute_result"
    }
   ],
   "source": [
    "SSR + SSD #debería ser igual al SST"
   ]
  },
  {
   "cell_type": "code",
   "execution_count": 70,
   "id": "9aab60b0",
   "metadata": {},
   "outputs": [
    {
     "data": {
      "text/plain": [
       "0.9495434156170282"
      ]
     },
     "execution_count": 70,
     "metadata": {},
     "output_type": "execute_result"
    }
   ],
   "source": [
    "R2 = SSR / SST\n",
    "R2"
   ]
  },
  {
   "cell_type": "code",
   "execution_count": 71,
   "id": "959fc625",
   "metadata": {},
   "outputs": [
    {
     "data": {
      "text/plain": [
       "(array([ 2.,  2.,  6., 11., 16., 21., 23., 13.,  2.,  4.]),\n",
       " array([-2.33490119, -1.91536376, -1.49582634, -1.07628891, -0.65675149,\n",
       "        -0.23721406,  0.18232336,  0.60186079,  1.02139821,  1.44093564,\n",
       "         1.86047306]),\n",
       " <BarContainer object of 10 artists>)"
      ]
     },
     "execution_count": 71,
     "metadata": {},
     "output_type": "execute_result"
    },
    {
     "data": {
      "image/png": "[encoded data removed]",
      "text/plain": [
       "<Figure size 432x288 with 1 Axes>"
      ]
     },
     "metadata": {
      "needs_background": "light"
     },
     "output_type": "display_data"
    }
   ],
   "source": [
    "plt.hist(data[\"y_pred\"] - data[\"y\"])"
   ]
  },
  {
   "cell_type": "markdown",
   "id": "45d373a1",
   "metadata": {},
   "source": [
    "## Conclusión\n",
    "Podemos afirmar que el modelo explica el 94,95% de Y. Sin embargo queda un 5% que estará explicado por la aleatoriedad u otra vairable"
   ]
  },
  {
   "cell_type": "markdown",
   "id": "6a616f57",
   "metadata": {},
   "source": [
    "# Obteniendo la recta de regresión\n",
    "* y = a + b * x\n",
    "* b = sum((xi-x_m)*(y_-i - y_m)) / sum((xi-x_m)^2)\n",
    "* a = y_m - b * x_m"
   ]
  },
  {
   "cell_type": "code",
   "execution_count": 72,
   "id": "247eec6f",
   "metadata": {},
   "outputs": [
    {
     "data": {
      "text/plain": [
       "(1.1502234716868731, 7.231387312421544)"
      ]
     },
     "execution_count": 72,
     "metadata": {},
     "output_type": "execute_result"
    }
   ],
   "source": [
    "x_mean = np.mean(data['x'])\n",
    "y_mean = np.mean(data['y'])\n",
    "x_mean, y_mean"
   ]
  },
  {
   "cell_type": "code",
   "execution_count": 73,
   "id": "04600aa5",
   "metadata": {},
   "outputs": [],
   "source": [
    "data['beta_n'] = (data['x'] - x_mean) * (data['y'] - y_mean)\n",
    "data['beta_d'] = (data['x'] - x_mean) **2"
   ]
  },
  {
   "cell_type": "code",
   "execution_count": 74,
   "id": "91d64373",
   "metadata": {},
   "outputs": [],
   "source": [
    "beta = sum(data['beta_n']) / sum(data['beta_d'])"
   ]
  },
  {
   "cell_type": "code",
   "execution_count": 75,
   "id": "f90c1f81",
   "metadata": {},
   "outputs": [],
   "source": [
    "alpha = y_mean - beta * x_mean"
   ]
  },
  {
   "cell_type": "code",
   "execution_count": 76,
   "id": "4ae1defc",
   "metadata": {},
   "outputs": [
    {
     "data": {
      "text/plain": [
       "(5.011706047623786, 1.9297826200177084)"
      ]
     },
     "execution_count": 76,
     "metadata": {},
     "output_type": "execute_result"
    }
   ],
   "source": [
    "alpha, beta"
   ]
  },
  {
   "cell_type": "markdown",
   "id": "bc715b4b",
   "metadata": {},
   "source": [
    "y = 1.9297826200177084 * x + 5.011706047623786"
   ]
  },
  {
   "cell_type": "code",
   "execution_count": 77,
   "id": "26d76c0f",
   "metadata": {},
   "outputs": [
    {
     "data": {
      "text/html": [
       "<div>\n",
       "<style scoped>\n",
       "    .dataframe tbody tr th:only-of-type {\n",
       "        vertical-align: middle;\n",
       "    }\n",
       "\n",
       "    .dataframe tbody tr th {\n",
       "        vertical-align: top;\n",
       "    }\n",
       "\n",
       "    .dataframe thead th {\n",
       "        text-align: right;\n",
       "    }\n",
       "</style>\n",
       "<table border=\"1\" class=\"dataframe\">\n",
       "  <thead>\n",
       "    <tr style=\"text-align: right;\">\n",
       "      <th></th>\n",
       "      <th>x</th>\n",
       "      <th>y</th>\n",
       "      <th>y_pred</th>\n",
       "      <th>SSR</th>\n",
       "      <th>SSD</th>\n",
       "      <th>SST</th>\n",
       "      <th>beta_n</th>\n",
       "      <th>beta_d</th>\n",
       "      <th>y_model</th>\n",
       "    </tr>\n",
       "  </thead>\n",
       "  <tbody>\n",
       "    <tr>\n",
       "      <th>0</th>\n",
       "      <td>2.322673</td>\n",
       "      <td>8.900316</td>\n",
       "      <td>9.413078</td>\n",
       "      <td>4.759774</td>\n",
       "      <td>0.262925</td>\n",
       "      <td>2.785324</td>\n",
       "      <td>1.956734</td>\n",
       "      <td>1.374637</td>\n",
       "      <td>9.493959</td>\n",
       "    </tr>\n",
       "    <tr>\n",
       "      <th>1</th>\n",
       "      <td>1.131153</td>\n",
       "      <td>8.473190</td>\n",
       "      <td>7.149190</td>\n",
       "      <td>0.006756</td>\n",
       "      <td>1.752976</td>\n",
       "      <td>1.542074</td>\n",
       "      <td>-0.023682</td>\n",
       "      <td>0.000364</td>\n",
       "      <td>7.194585</td>\n",
       "    </tr>\n",
       "    <tr>\n",
       "      <th>2</th>\n",
       "      <td>-2.144179</td>\n",
       "      <td>0.365196</td>\n",
       "      <td>0.926059</td>\n",
       "      <td>39.757164</td>\n",
       "      <td>0.314568</td>\n",
       "      <td>47.144586</td>\n",
       "      <td>22.620001</td>\n",
       "      <td>10.853091</td>\n",
       "      <td>0.873906</td>\n",
       "    </tr>\n",
       "    <tr>\n",
       "      <th>3</th>\n",
       "      <td>-3.990194</td>\n",
       "      <td>-2.930231</td>\n",
       "      <td>-2.581368</td>\n",
       "      <td>96.290166</td>\n",
       "      <td>0.121705</td>\n",
       "      <td>103.258483</td>\n",
       "      <td>52.234956</td>\n",
       "      <td>26.423888</td>\n",
       "      <td>-2.688500</td>\n",
       "    </tr>\n",
       "    <tr>\n",
       "      <th>4</th>\n",
       "      <td>0.309135</td>\n",
       "      <td>7.922258</td>\n",
       "      <td>5.587357</td>\n",
       "      <td>2.702835</td>\n",
       "      <td>5.451764</td>\n",
       "      <td>0.477303</td>\n",
       "      <td>-0.581083</td>\n",
       "      <td>0.707429</td>\n",
       "      <td>5.608270</td>\n",
       "    </tr>\n",
       "  </tbody>\n",
       "</table>\n",
       "</div>"
      ],
      "text/plain": [
       "          x         y    y_pred        SSR       SSD         SST     beta_n  \\\n",
       "0  2.322673  8.900316  9.413078   4.759774  0.262925    2.785324   1.956734   \n",
       "1  1.131153  8.473190  7.149190   0.006756  1.752976    1.542074  -0.023682   \n",
       "2 -2.144179  0.365196  0.926059  39.757164  0.314568   47.144586  22.620001   \n",
       "3 -3.990194 -2.930231 -2.581368  96.290166  0.121705  103.258483  52.234956   \n",
       "4  0.309135  7.922258  5.587357   2.702835  5.451764    0.477303  -0.581083   \n",
       "\n",
       "      beta_d   y_model  \n",
       "0   1.374637  9.493959  \n",
       "1   0.000364  7.194585  \n",
       "2  10.853091  0.873906  \n",
       "3  26.423888 -2.688500  \n",
       "4   0.707429  5.608270  "
      ]
     },
     "execution_count": 77,
     "metadata": {},
     "output_type": "execute_result"
    }
   ],
   "source": [
    "data['y_model'] = alpha + beta * data['x']\n",
    "data.head()"
   ]
  },
  {
   "cell_type": "code",
   "execution_count": 79,
   "id": "2e06611e",
   "metadata": {},
   "outputs": [],
   "source": [
    "SSR = sum((data[\"y_model\"] - y_mean) **2)\n",
    "SSD = sum((data[\"y_model\"] - data[\"y\"])**2)\n",
    "SST = sum((data[\"y\"] - y_mean) **2)"
   ]
  },
  {
   "cell_type": "code",
   "execution_count": 80,
   "id": "514324d0",
   "metadata": {},
   "outputs": [
    {
     "data": {
      "text/plain": [
       "(2974.345665150327, 62.333099862861395, 3036.6787650131914)"
      ]
     },
     "execution_count": 80,
     "metadata": {},
     "output_type": "execute_result"
    }
   ],
   "source": [
    "SSR, SSD, SST"
   ]
  },
  {
   "cell_type": "code",
   "execution_count": 81,
   "id": "d4d73f10",
   "metadata": {},
   "outputs": [
    {
     "data": {
      "text/plain": [
       "0.9794732651405116"
      ]
     },
     "execution_count": 81,
     "metadata": {},
     "output_type": "execute_result"
    }
   ],
   "source": [
    "R2 = SSR / SST\n",
    "R2"
   ]
  },
  {
   "cell_type": "code",
   "execution_count": 83,
   "id": "b6643179",
   "metadata": {},
   "outputs": [
    {
     "data": {
      "text/plain": [
       "Text(0.5, 1.0, 'Valor actual vs Predicción')"
      ]
     },
     "execution_count": 83,
     "metadata": {},
     "output_type": "execute_result"
    },
    {
     "data": {
      "image/png": "[encoded data removed]",
      "text/plain": [
       "<Figure size 432x288 with 1 Axes>"
      ]
     },
     "metadata": {
      "needs_background": "light"
     },
     "output_type": "display_data"
    }
   ],
   "source": [
    "y_mean = [np.mean(y_act) for i in range(1, len(x_list) + 1)] # Vector que contiene el promedio las n veces que salga X\n",
    "%matplotlib inline\n",
    "plt.plot(data['x'], data['y_pred'])\n",
    "plt.plot(data['x'], data['y'], \"ro\")\n",
    "plt.plot(data['x'], y_mean, \"g\")\n",
    "plt.plot(data['x'], data['y_model'])\n",
    "plt.title(\"Valor actual vs Predicción\")"
   ]
  },
  {
   "cell_type": "markdown",
   "id": "920fc155",
   "metadata": {},
   "source": [
    "# Error estándar de los residuos (RSE)\n",
    "El RSE se compara contra el promedio de Y. Entrte más pequeño sea, mejor"
   ]
  },
  {
   "cell_type": "code",
   "execution_count": 84,
   "id": "7ba5935a",
   "metadata": {},
   "outputs": [
    {
     "data": {
      "text/plain": [
       "0.7975287075817101"
      ]
     },
     "execution_count": 84,
     "metadata": {},
     "output_type": "execute_result"
    }
   ],
   "source": [
    "RSE = np.sqrt(SSD/(len(data)-2))\n",
    "RSE"
   ]
  },
  {
   "cell_type": "code",
   "execution_count": 85,
   "id": "b02c291b",
   "metadata": {},
   "outputs": [
    {
     "data": {
      "text/plain": [
       "7.231387312421544"
      ]
     },
     "execution_count": 85,
     "metadata": {},
     "output_type": "execute_result"
    }
   ],
   "source": [
    "np.mean(data['y'])"
   ]
  },
  {
   "cell_type": "code",
   "execution_count": 86,
   "id": "ea58b7c9",
   "metadata": {},
   "outputs": [
    {
     "data": {
      "text/plain": [
       "0.11028709611664335"
      ]
     },
     "execution_count": 86,
     "metadata": {},
     "output_type": "execute_result"
    }
   ],
   "source": [
    "RSE / np.mean(data['y'])"
   ]
  }
 ],
 "metadata": {
  "kernelspec": {
   "display_name": "Python 3 (ipykernel)",
   "language": "python",
   "name": "python3"
  },
  "language_info": {
   "codemirror_mode": {
    "name": "ipython",
    "version": 3
   },
   "file_extension": ".py",
   "mimetype": "text/x-python",
   "name": "python",
   "nbconvert_exporter": "python",
   "pygments_lexer": "ipython3",
   "version": "3.9.12"
  }
 },
 "nbformat": 4,
 "nbformat_minor": 5
}
